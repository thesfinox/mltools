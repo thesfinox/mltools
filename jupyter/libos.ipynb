{
 "cells": [
  {
   "cell_type": "markdown",
   "metadata": {},
   "source": [
    "# LibOS\n",
    "\n",
    "Print information on the current operating system."
   ]
  },
  {
   "cell_type": "code",
   "execution_count": 32,
   "metadata": {},
   "outputs": [],
   "source": [
    "import os\n",
    "import psutil\n",
    "\n",
    "class InfoOS:\n",
    "    '''\n",
    "    This class retrieves and prints information on the current OS.\n",
    "    \n",
    "    Public methods:\n",
    "    \n",
    "    Attributes:\n",
    "        os:      the current OS,\n",
    "        kernel:  the current release,\n",
    "        arch:    the current architecture,\n",
    "        threads: the number of available CPU threads,\n",
    "        freq:    the current CPU frequency,\n",
    "        freqm:   the maximum CPU frequency,\n",
    "        vmtot:   the total virtual memory (in MB),\n",
    "        vmav:    the available virtual memory (in MB).\n",
    "    '''\n",
    "    \n",
    "    def __init__(self):\n",
    "        '''\n",
    "        Constructor of the class.\n",
    "        '''\n",
    "        \n",
    "        self.os      = os.uname().sysname\n",
    "        self.kernel  = os.uname().release\n",
    "        self.arch    = os.uname().machine\n",
    "        self.threads = psutil.cpu_count()\n",
    "        self.freq    = psutil.cpu_freq().current\n",
    "        self.freqm   = psutil.cpu_freq().max\n",
    "        self.vmtot   = int(psutil.virtual_memory().total / 1024 / 1024)\n",
    "        self.vmav    = int(psutil.virtual_memory().available / 1024 / 1024)"
   ]
  }
 ],
 "metadata": {
  "kernelspec": {
   "display_name": "Python 3",
   "language": "python",
   "name": "python3"
  },
  "language_info": {
   "codemirror_mode": {
    "name": "ipython",
    "version": 3
   },
   "file_extension": ".py",
   "mimetype": "text/x-python",
   "name": "python",
   "nbconvert_exporter": "python",
   "pygments_lexer": "ipython3",
   "version": "3.7.6"
  }
 },
 "nbformat": 4,
 "nbformat_minor": 4
}
