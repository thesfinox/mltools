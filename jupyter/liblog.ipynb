{
 "cells": [
  {
   "cell_type": "markdown",
   "metadata": {},
   "source": [
    "# Liblog\n",
    "\n",
    "Create a log file."
   ]
  },
  {
   "cell_type": "code",
   "execution_count": 2,
   "metadata": {},
   "outputs": [],
   "source": [
    "import logging\n",
    "\n",
    "from os import path, rename\n",
    "from time import strftime, gmtime\n",
    "\n",
    "def create_logfile(filename, name='logger', with_stdout=False, level=logging.INFO):\n",
    "    '''\n",
    "    Create a logfile and rotate old logs.\n",
    "    \n",
    "    Required arguments:\n",
    "        filename:    the name of the file or path to the log.\n",
    "        \n",
    "    Optional arguments\n",
    "        name:        the name of the log session,\n",
    "        with_stdout: whether to output the log also on stdout,\n",
    "        level:       the level of the information stored in the log.\n",
    "        \n",
    "    Returns:\n",
    "        the log.\n",
    "    '''\n",
    "    \n",
    "    # get current time to rename strings\n",
    "    ctime = strftime('_%Y%m%d.%H%M%S', gmtime())\n",
    "    \n",
    "    # rotate log if it already exists\n",
    "    if path.isfile(filename):\n",
    "        print('Rotating existing logs...', flush=True)\n",
    "        rename(filename, filename + ctime)\n",
    "    \n",
    "    # get a logging session by name\n",
    "    log = logging.getLogger(name + ctime)\n",
    "    log.setLevel(level)\n",
    "    \n",
    "    # define format\n",
    "    fmt = logging.Formatter('%(asctime)s: %(levelname)s ==> %(message)s')\n",
    "    \n",
    "    # add the log file\n",
    "    han = logging.FileHandler(filename=filename)\n",
    "    han.setLevel(level)\n",
    "    han.setFormatter(fmt)\n",
    "    log.addHandler(han)\n",
    "    \n",
    "    # add handler for standard output\n",
    "    if with_stdout:\n",
    "        std = logging.StreamHandler(sys.stdout)\n",
    "        std.setLevel(level)\n",
    "        std.setFormatter(fmt)\n",
    "        log.addHandler(std)\n",
    "        \n",
    "    return log"
   ]
  }
 ],
 "metadata": {
  "kernelspec": {
   "display_name": "Python 3",
   "language": "python",
   "name": "python3"
  },
  "language_info": {
   "codemirror_mode": {
    "name": "ipython",
    "version": 3
   },
   "file_extension": ".py",
   "mimetype": "text/x-python",
   "name": "python",
   "nbconvert_exporter": "python",
   "pygments_lexer": "ipython3",
   "version": "3.7.6"
  }
 },
 "nbformat": 4,
 "nbformat_minor": 4
}
